{
 "cells": [
  {
   "cell_type": "markdown",
   "id": "6f4f98dc",
   "metadata": {},
   "source": [
    "# Importing pandas for dataframes numpy for array manipulation (not used here)\n",
    "\n",
    "## url is Fall 2022 Grade Distribution Only and df reads this as a csv file -- url is manipulated to be a csv instead of a google spreadsheet"
   ]
  },
  {
   "cell_type": "code",
   "execution_count": 25,
   "id": "c80e537f",
   "metadata": {},
   "outputs": [],
   "source": [
    "import pandas as pd\n",
    "import numpy as np\n",
    "url = \"https://docs.google.com/spreadsheets/d/1mS6khEB6m8cPNenNvY9Tg6bJ6YkmcvCI/export?format=csv&gid=1283335856\"\n",
    "df = pd.read_csv(url)"
   ]
  },
  {
   "cell_type": "code",
   "execution_count": 26,
   "id": "10fd7924",
   "metadata": {},
   "outputs": [
    {
     "data": {
      "text/html": [
       "<div>\n",
       "<style scoped>\n",
       "    .dataframe tbody tr th:only-of-type {\n",
       "        vertical-align: middle;\n",
       "    }\n",
       "\n",
       "    .dataframe tbody tr th {\n",
       "        vertical-align: top;\n",
       "    }\n",
       "\n",
       "    .dataframe thead th {\n",
       "        text-align: right;\n",
       "    }\n",
       "</style>\n",
       "<table border=\"1\" class=\"dataframe\">\n",
       "  <thead>\n",
       "    <tr style=\"text-align: right;\">\n",
       "      <th></th>\n",
       "      <th>TERM</th>\n",
       "      <th>SUBJECT</th>\n",
       "      <th>NBR</th>\n",
       "      <th>COURSE NAME</th>\n",
       "      <th>SECTION</th>\n",
       "      <th>PROF</th>\n",
       "      <th>TOTAL</th>\n",
       "      <th>A+</th>\n",
       "      <th>A</th>\n",
       "      <th>A-</th>\n",
       "      <th>...</th>\n",
       "      <th>C</th>\n",
       "      <th>C-</th>\n",
       "      <th>D</th>\n",
       "      <th>F</th>\n",
       "      <th>W</th>\n",
       "      <th>INC/NA</th>\n",
       "      <th>AVG GPA</th>\n",
       "      <th>join the best club on campus</th>\n",
       "      <th>Unnamed: 22</th>\n",
       "      <th>https://discord.gg/vxCqd4hdak</th>\n",
       "    </tr>\n",
       "  </thead>\n",
       "  <tbody>\n",
       "    <tr>\n",
       "      <th>0</th>\n",
       "      <td>F2022</td>\n",
       "      <td>ACCT</td>\n",
       "      <td>100</td>\n",
       "      <td>Fin &amp; Mgr Acct</td>\n",
       "      <td>1</td>\n",
       "      <td>HO, V</td>\n",
       "      <td>28</td>\n",
       "      <td>0</td>\n",
       "      <td>11</td>\n",
       "      <td>2</td>\n",
       "      <td>...</td>\n",
       "      <td>3</td>\n",
       "      <td>0</td>\n",
       "      <td>0</td>\n",
       "      <td>0</td>\n",
       "      <td>5</td>\n",
       "      <td>0</td>\n",
       "      <td>3.383</td>\n",
       "      <td>NaN</td>\n",
       "      <td>NaN</td>\n",
       "      <td>NaN</td>\n",
       "    </tr>\n",
       "    <tr>\n",
       "      <th>1</th>\n",
       "      <td>F2022</td>\n",
       "      <td>ACCT</td>\n",
       "      <td>101</td>\n",
       "      <td>Intro Thry &amp; Prac of Acct I</td>\n",
       "      <td>11</td>\n",
       "      <td>CHAN, J</td>\n",
       "      <td>29</td>\n",
       "      <td>0</td>\n",
       "      <td>13</td>\n",
       "      <td>2</td>\n",
       "      <td>...</td>\n",
       "      <td>0</td>\n",
       "      <td>1</td>\n",
       "      <td>0</td>\n",
       "      <td>0</td>\n",
       "      <td>3</td>\n",
       "      <td>0</td>\n",
       "      <td>3.464</td>\n",
       "      <td>NaN</td>\n",
       "      <td>NaN</td>\n",
       "      <td>NaN</td>\n",
       "    </tr>\n",
       "    <tr>\n",
       "      <th>2</th>\n",
       "      <td>F2022</td>\n",
       "      <td>ACCT</td>\n",
       "      <td>101</td>\n",
       "      <td>Intro Thry &amp; Prac of Acct I</td>\n",
       "      <td>5</td>\n",
       "      <td>RUTHIZER, S</td>\n",
       "      <td>50</td>\n",
       "      <td>2</td>\n",
       "      <td>9</td>\n",
       "      <td>14</td>\n",
       "      <td>...</td>\n",
       "      <td>1</td>\n",
       "      <td>0</td>\n",
       "      <td>3</td>\n",
       "      <td>2</td>\n",
       "      <td>3</td>\n",
       "      <td>0</td>\n",
       "      <td>3.176</td>\n",
       "      <td>NaN</td>\n",
       "      <td>NaN</td>\n",
       "      <td>NaN</td>\n",
       "    </tr>\n",
       "    <tr>\n",
       "      <th>3</th>\n",
       "      <td>F2022</td>\n",
       "      <td>ACCT</td>\n",
       "      <td>101</td>\n",
       "      <td>Intro Thry &amp; Prac of Acct I</td>\n",
       "      <td>2</td>\n",
       "      <td>GRUZA, M</td>\n",
       "      <td>45</td>\n",
       "      <td>1</td>\n",
       "      <td>2</td>\n",
       "      <td>3</td>\n",
       "      <td>...</td>\n",
       "      <td>0</td>\n",
       "      <td>0</td>\n",
       "      <td>0</td>\n",
       "      <td>0</td>\n",
       "      <td>25</td>\n",
       "      <td>0</td>\n",
       "      <td>3.067</td>\n",
       "      <td>NaN</td>\n",
       "      <td>NaN</td>\n",
       "      <td>NaN</td>\n",
       "    </tr>\n",
       "    <tr>\n",
       "      <th>4</th>\n",
       "      <td>F2022</td>\n",
       "      <td>ACCT</td>\n",
       "      <td>101</td>\n",
       "      <td>Intro Thry &amp; Prac of Acct I</td>\n",
       "      <td>4</td>\n",
       "      <td>FEISULLIN, A</td>\n",
       "      <td>45</td>\n",
       "      <td>4</td>\n",
       "      <td>6</td>\n",
       "      <td>1</td>\n",
       "      <td>...</td>\n",
       "      <td>9</td>\n",
       "      <td>1</td>\n",
       "      <td>1</td>\n",
       "      <td>0</td>\n",
       "      <td>4</td>\n",
       "      <td>1</td>\n",
       "      <td>2.908</td>\n",
       "      <td>NaN</td>\n",
       "      <td>NaN</td>\n",
       "      <td>NaN</td>\n",
       "    </tr>\n",
       "  </tbody>\n",
       "</table>\n",
       "<p>5 rows × 24 columns</p>\n",
       "</div>"
      ],
      "text/plain": [
       "    TERM SUBJECT  NBR                  COURSE NAME SECTION          PROF  \\\n",
       "0  F2022    ACCT  100               Fin & Mgr Acct       1         HO, V   \n",
       "1  F2022    ACCT  101  Intro Thry & Prac of Acct I      11       CHAN, J   \n",
       "2  F2022    ACCT  101  Intro Thry & Prac of Acct I       5   RUTHIZER, S   \n",
       "3  F2022    ACCT  101  Intro Thry & Prac of Acct I       2      GRUZA, M   \n",
       "4  F2022    ACCT  101  Intro Thry & Prac of Acct I       4  FEISULLIN, A   \n",
       "\n",
       "   TOTAL  A+   A  A-  ...  C  C-  D  F   W  INC/NA  AVG GPA  \\\n",
       "0     28   0  11   2  ...  3   0  0  0   5       0    3.383   \n",
       "1     29   0  13   2  ...  0   1  0  0   3       0    3.464   \n",
       "2     50   2   9  14  ...  1   0  3  2   3       0    3.176   \n",
       "3     45   1   2   3  ...  0   0  0  0  25       0    3.067   \n",
       "4     45   4   6   1  ...  9   1  1  0   4       1    2.908   \n",
       "\n",
       "   join the best club on campus  Unnamed: 22  https://discord.gg/vxCqd4hdak  \n",
       "0                           NaN          NaN                            NaN  \n",
       "1                           NaN          NaN                            NaN  \n",
       "2                           NaN          NaN                            NaN  \n",
       "3                           NaN          NaN                            NaN  \n",
       "4                           NaN          NaN                            NaN  \n",
       "\n",
       "[5 rows x 24 columns]"
      ]
     },
     "execution_count": 26,
     "metadata": {},
     "output_type": "execute_result"
    }
   ],
   "source": [
    "df.head()"
   ]
  },
  {
   "cell_type": "markdown",
   "id": "74ae1280",
   "metadata": {},
   "source": [
    "# Confirm this is only Fall 2022, see all names of columns, take out the columns we will be working with, and make a new dataframe called analysis_df which only has those columns"
   ]
  },
  {
   "cell_type": "code",
   "execution_count": 27,
   "id": "b8d41d29",
   "metadata": {},
   "outputs": [
    {
     "data": {
      "text/plain": [
       "array(['F2022'], dtype=object)"
      ]
     },
     "execution_count": 27,
     "metadata": {},
     "output_type": "execute_result"
    }
   ],
   "source": [
    "df[\"TERM\"].unique()"
   ]
  },
  {
   "cell_type": "code",
   "execution_count": 28,
   "id": "c3d3aa10",
   "metadata": {},
   "outputs": [
    {
     "data": {
      "text/plain": [
       "Index(['TERM', 'SUBJECT', 'NBR', 'COURSE NAME', 'SECTION', 'PROF', 'TOTAL',\n",
       "       'A+', 'A', 'A-', 'B+', 'B', 'B-', 'C+', 'C', 'C-', 'D', 'F', 'W',\n",
       "       'INC/NA', 'AVG GPA', 'join the best club on campus', 'Unnamed: 22',\n",
       "       'https://discord.gg/vxCqd4hdak'],\n",
       "      dtype='object')"
      ]
     },
     "execution_count": 28,
     "metadata": {},
     "output_type": "execute_result"
    }
   ],
   "source": [
    "df.columns"
   ]
  },
  {
   "cell_type": "code",
   "execution_count": 29,
   "id": "c5b76733",
   "metadata": {},
   "outputs": [],
   "source": [
    "important_columns = [\"SUBJECT\", \"NBR\", \"PROF\", \"TOTAL\", \"A+\", \"A\", \"A-\", \"B+\", \"B\", \"B-\", \"C+\", \"C\", \"C-\", \"D\", \"F\", \"W\", \"AVG GPA\"]"
   ]
  },
  {
   "cell_type": "code",
   "execution_count": 30,
   "id": "6e35cd9d",
   "metadata": {},
   "outputs": [],
   "source": [
    "analysis_df = df[important_columns]"
   ]
  },
  {
   "cell_type": "code",
   "execution_count": 31,
   "id": "d388c5bd",
   "metadata": {},
   "outputs": [
    {
     "data": {
      "text/html": [
       "<div>\n",
       "<style scoped>\n",
       "    .dataframe tbody tr th:only-of-type {\n",
       "        vertical-align: middle;\n",
       "    }\n",
       "\n",
       "    .dataframe tbody tr th {\n",
       "        vertical-align: top;\n",
       "    }\n",
       "\n",
       "    .dataframe thead th {\n",
       "        text-align: right;\n",
       "    }\n",
       "</style>\n",
       "<table border=\"1\" class=\"dataframe\">\n",
       "  <thead>\n",
       "    <tr style=\"text-align: right;\">\n",
       "      <th></th>\n",
       "      <th>SUBJECT</th>\n",
       "      <th>NBR</th>\n",
       "      <th>PROF</th>\n",
       "      <th>TOTAL</th>\n",
       "      <th>A+</th>\n",
       "      <th>A</th>\n",
       "      <th>A-</th>\n",
       "      <th>B+</th>\n",
       "      <th>B</th>\n",
       "      <th>B-</th>\n",
       "      <th>C+</th>\n",
       "      <th>C</th>\n",
       "      <th>C-</th>\n",
       "      <th>D</th>\n",
       "      <th>F</th>\n",
       "      <th>W</th>\n",
       "      <th>AVG GPA</th>\n",
       "    </tr>\n",
       "  </thead>\n",
       "  <tbody>\n",
       "    <tr>\n",
       "      <th>0</th>\n",
       "      <td>ACCT</td>\n",
       "      <td>100</td>\n",
       "      <td>HO, V</td>\n",
       "      <td>28</td>\n",
       "      <td>0</td>\n",
       "      <td>11</td>\n",
       "      <td>2</td>\n",
       "      <td>1</td>\n",
       "      <td>3</td>\n",
       "      <td>3</td>\n",
       "      <td>0</td>\n",
       "      <td>3</td>\n",
       "      <td>0</td>\n",
       "      <td>0</td>\n",
       "      <td>0</td>\n",
       "      <td>5</td>\n",
       "      <td>3.383</td>\n",
       "    </tr>\n",
       "    <tr>\n",
       "      <th>1</th>\n",
       "      <td>ACCT</td>\n",
       "      <td>101</td>\n",
       "      <td>CHAN, J</td>\n",
       "      <td>29</td>\n",
       "      <td>0</td>\n",
       "      <td>13</td>\n",
       "      <td>2</td>\n",
       "      <td>0</td>\n",
       "      <td>4</td>\n",
       "      <td>5</td>\n",
       "      <td>0</td>\n",
       "      <td>0</td>\n",
       "      <td>1</td>\n",
       "      <td>0</td>\n",
       "      <td>0</td>\n",
       "      <td>3</td>\n",
       "      <td>3.464</td>\n",
       "    </tr>\n",
       "    <tr>\n",
       "      <th>2</th>\n",
       "      <td>ACCT</td>\n",
       "      <td>101</td>\n",
       "      <td>RUTHIZER, S</td>\n",
       "      <td>50</td>\n",
       "      <td>2</td>\n",
       "      <td>9</td>\n",
       "      <td>14</td>\n",
       "      <td>6</td>\n",
       "      <td>4</td>\n",
       "      <td>5</td>\n",
       "      <td>0</td>\n",
       "      <td>1</td>\n",
       "      <td>0</td>\n",
       "      <td>3</td>\n",
       "      <td>2</td>\n",
       "      <td>3</td>\n",
       "      <td>3.176</td>\n",
       "    </tr>\n",
       "    <tr>\n",
       "      <th>3</th>\n",
       "      <td>ACCT</td>\n",
       "      <td>101</td>\n",
       "      <td>GRUZA, M</td>\n",
       "      <td>45</td>\n",
       "      <td>1</td>\n",
       "      <td>2</td>\n",
       "      <td>3</td>\n",
       "      <td>1</td>\n",
       "      <td>5</td>\n",
       "      <td>0</td>\n",
       "      <td>6</td>\n",
       "      <td>0</td>\n",
       "      <td>0</td>\n",
       "      <td>0</td>\n",
       "      <td>0</td>\n",
       "      <td>25</td>\n",
       "      <td>3.067</td>\n",
       "    </tr>\n",
       "    <tr>\n",
       "      <th>4</th>\n",
       "      <td>ACCT</td>\n",
       "      <td>101</td>\n",
       "      <td>FEISULLIN, A</td>\n",
       "      <td>45</td>\n",
       "      <td>4</td>\n",
       "      <td>6</td>\n",
       "      <td>1</td>\n",
       "      <td>7</td>\n",
       "      <td>5</td>\n",
       "      <td>0</td>\n",
       "      <td>6</td>\n",
       "      <td>9</td>\n",
       "      <td>1</td>\n",
       "      <td>1</td>\n",
       "      <td>0</td>\n",
       "      <td>4</td>\n",
       "      <td>2.908</td>\n",
       "    </tr>\n",
       "  </tbody>\n",
       "</table>\n",
       "</div>"
      ],
      "text/plain": [
       "  SUBJECT  NBR          PROF  TOTAL  A+   A  A-  B+  B  B-  C+  C  C-  D  F  \\\n",
       "0    ACCT  100         HO, V     28   0  11   2   1  3   3   0  3   0  0  0   \n",
       "1    ACCT  101       CHAN, J     29   0  13   2   0  4   5   0  0   1  0  0   \n",
       "2    ACCT  101   RUTHIZER, S     50   2   9  14   6  4   5   0  1   0  3  2   \n",
       "3    ACCT  101      GRUZA, M     45   1   2   3   1  5   0   6  0   0  0  0   \n",
       "4    ACCT  101  FEISULLIN, A     45   4   6   1   7  5   0   6  9   1  1  0   \n",
       "\n",
       "    W  AVG GPA  \n",
       "0   5    3.383  \n",
       "1   3    3.464  \n",
       "2   3    3.176  \n",
       "3  25    3.067  \n",
       "4   4    2.908  "
      ]
     },
     "execution_count": 31,
     "metadata": {},
     "output_type": "execute_result"
    }
   ],
   "source": [
    "analysis_df.head()"
   ]
  },
  {
   "cell_type": "code",
   "execution_count": 32,
   "id": "4bef1009",
   "metadata": {},
   "outputs": [
    {
     "data": {
      "text/plain": [
       "(2559, 17)"
      ]
     },
     "execution_count": 32,
     "metadata": {},
     "output_type": "execute_result"
    }
   ],
   "source": [
    "analysis_df.shape"
   ]
  },
  {
   "cell_type": "markdown",
   "id": "17277041",
   "metadata": {},
   "source": [
    "# First, see which values have null values and get rid of all those rows"
   ]
  },
  {
   "cell_type": "code",
   "execution_count": 33,
   "id": "4ad5a3c4",
   "metadata": {},
   "outputs": [
    {
     "data": {
      "text/plain": [
       "SUBJECT     0\n",
       "NBR         0\n",
       "PROF       22\n",
       "TOTAL       0\n",
       "A+          0\n",
       "A           0\n",
       "A-          0\n",
       "B+          0\n",
       "B           0\n",
       "B-          0\n",
       "C+          0\n",
       "C           0\n",
       "C-          0\n",
       "D           0\n",
       "F           0\n",
       "W           0\n",
       "AVG GPA     0\n",
       "dtype: int64"
      ]
     },
     "execution_count": 33,
     "metadata": {},
     "output_type": "execute_result"
    }
   ],
   "source": [
    "nan_count = np.sum(analysis_df.isnull(), axis = 0)\n",
    "nan_count"
   ]
  },
  {
   "cell_type": "code",
   "execution_count": 34,
   "id": "1d6b9a3e",
   "metadata": {},
   "outputs": [],
   "source": [
    "analysis_df = analysis_df.dropna(subset = \"PROF\")"
   ]
  },
  {
   "cell_type": "code",
   "execution_count": 35,
   "id": "8f8b256c",
   "metadata": {},
   "outputs": [
    {
     "data": {
      "text/plain": [
       "(2537, 17)"
      ]
     },
     "execution_count": 35,
     "metadata": {},
     "output_type": "execute_result"
    }
   ],
   "source": [
    "analysis_df.shape"
   ]
  },
  {
   "cell_type": "markdown",
   "id": "f9824785",
   "metadata": {},
   "source": [
    "# Keeps only the rows where the GPA isn't 0"
   ]
  },
  {
   "cell_type": "code",
   "execution_count": 45,
   "id": "33f004c2",
   "metadata": {},
   "outputs": [],
   "source": [
    "analysis_df = analysis_df[analysis_df[\"AVG GPA\"] != 0]"
   ]
  },
  {
   "cell_type": "code",
   "execution_count": 46,
   "id": "a42141c5",
   "metadata": {},
   "outputs": [
    {
     "data": {
      "text/plain": [
       "(2333, 17)"
      ]
     },
     "execution_count": 46,
     "metadata": {},
     "output_type": "execute_result"
    }
   ],
   "source": [
    "analysis_df.shape"
   ]
  },
  {
   "cell_type": "markdown",
   "id": "4f18c253",
   "metadata": {},
   "source": [
    "# Make a new dataframe called CS_df that only has rows where the subject is CSCI"
   ]
  },
  {
   "cell_type": "code",
   "execution_count": 47,
   "id": "5be0a304",
   "metadata": {},
   "outputs": [],
   "source": [
    "CS_df = analysis_df.loc[analysis_df[\"SUBJECT\"] == \"CSCI\"]"
   ]
  },
  {
   "cell_type": "code",
   "execution_count": 48,
   "id": "c16c0a6b",
   "metadata": {},
   "outputs": [
    {
     "data": {
      "text/html": [
       "<div>\n",
       "<style scoped>\n",
       "    .dataframe tbody tr th:only-of-type {\n",
       "        vertical-align: middle;\n",
       "    }\n",
       "\n",
       "    .dataframe tbody tr th {\n",
       "        vertical-align: top;\n",
       "    }\n",
       "\n",
       "    .dataframe thead th {\n",
       "        text-align: right;\n",
       "    }\n",
       "</style>\n",
       "<table border=\"1\" class=\"dataframe\">\n",
       "  <thead>\n",
       "    <tr style=\"text-align: right;\">\n",
       "      <th></th>\n",
       "      <th>SUBJECT</th>\n",
       "      <th>NBR</th>\n",
       "      <th>PROF</th>\n",
       "      <th>TOTAL</th>\n",
       "      <th>A+</th>\n",
       "      <th>A</th>\n",
       "      <th>A-</th>\n",
       "      <th>B+</th>\n",
       "      <th>B</th>\n",
       "      <th>B-</th>\n",
       "      <th>C+</th>\n",
       "      <th>C</th>\n",
       "      <th>C-</th>\n",
       "      <th>D</th>\n",
       "      <th>F</th>\n",
       "      <th>W</th>\n",
       "      <th>AVG GPA</th>\n",
       "    </tr>\n",
       "  </thead>\n",
       "  <tbody>\n",
       "    <tr>\n",
       "      <th>582</th>\n",
       "      <td>CSCI</td>\n",
       "      <td>12</td>\n",
       "      <td>WAXMAN, J</td>\n",
       "      <td>58</td>\n",
       "      <td>0</td>\n",
       "      <td>2</td>\n",
       "      <td>7</td>\n",
       "      <td>5</td>\n",
       "      <td>14</td>\n",
       "      <td>6</td>\n",
       "      <td>2</td>\n",
       "      <td>2</td>\n",
       "      <td>1</td>\n",
       "      <td>3</td>\n",
       "      <td>5</td>\n",
       "      <td>10</td>\n",
       "      <td>2.594</td>\n",
       "    </tr>\n",
       "    <tr>\n",
       "      <th>585</th>\n",
       "      <td>CSCI</td>\n",
       "      <td>48</td>\n",
       "      <td>FRIED, M</td>\n",
       "      <td>131</td>\n",
       "      <td>19</td>\n",
       "      <td>10</td>\n",
       "      <td>23</td>\n",
       "      <td>28</td>\n",
       "      <td>17</td>\n",
       "      <td>12</td>\n",
       "      <td>4</td>\n",
       "      <td>1</td>\n",
       "      <td>0</td>\n",
       "      <td>1</td>\n",
       "      <td>1</td>\n",
       "      <td>12</td>\n",
       "      <td>3.354</td>\n",
       "    </tr>\n",
       "    <tr>\n",
       "      <th>586</th>\n",
       "      <td>CSCI</td>\n",
       "      <td>48</td>\n",
       "      <td>JAGDEO, M</td>\n",
       "      <td>94</td>\n",
       "      <td>7</td>\n",
       "      <td>14</td>\n",
       "      <td>15</td>\n",
       "      <td>9</td>\n",
       "      <td>11</td>\n",
       "      <td>6</td>\n",
       "      <td>1</td>\n",
       "      <td>1</td>\n",
       "      <td>0</td>\n",
       "      <td>7</td>\n",
       "      <td>7</td>\n",
       "      <td>14</td>\n",
       "      <td>2.945</td>\n",
       "    </tr>\n",
       "    <tr>\n",
       "      <th>596</th>\n",
       "      <td>CSCI</td>\n",
       "      <td>100</td>\n",
       "      <td>CASTRO, R</td>\n",
       "      <td>40</td>\n",
       "      <td>0</td>\n",
       "      <td>8</td>\n",
       "      <td>4</td>\n",
       "      <td>5</td>\n",
       "      <td>5</td>\n",
       "      <td>3</td>\n",
       "      <td>0</td>\n",
       "      <td>4</td>\n",
       "      <td>2</td>\n",
       "      <td>0</td>\n",
       "      <td>3</td>\n",
       "      <td>6</td>\n",
       "      <td>2.876</td>\n",
       "    </tr>\n",
       "    <tr>\n",
       "      <th>597</th>\n",
       "      <td>CSCI</td>\n",
       "      <td>111</td>\n",
       "      <td>SCHLEY, R</td>\n",
       "      <td>236</td>\n",
       "      <td>10</td>\n",
       "      <td>30</td>\n",
       "      <td>14</td>\n",
       "      <td>8</td>\n",
       "      <td>22</td>\n",
       "      <td>8</td>\n",
       "      <td>17</td>\n",
       "      <td>25</td>\n",
       "      <td>8</td>\n",
       "      <td>13</td>\n",
       "      <td>22</td>\n",
       "      <td>49</td>\n",
       "      <td>2.494</td>\n",
       "    </tr>\n",
       "  </tbody>\n",
       "</table>\n",
       "</div>"
      ],
      "text/plain": [
       "    SUBJECT  NBR       PROF  TOTAL  A+   A  A-  B+   B  B-  C+   C  C-   D  \\\n",
       "582    CSCI   12  WAXMAN, J     58   0   2   7   5  14   6   2   2   1   3   \n",
       "585    CSCI   48   FRIED, M    131  19  10  23  28  17  12   4   1   0   1   \n",
       "586    CSCI   48  JAGDEO, M     94   7  14  15   9  11   6   1   1   0   7   \n",
       "596    CSCI  100  CASTRO, R     40   0   8   4   5   5   3   0   4   2   0   \n",
       "597    CSCI  111  SCHLEY, R    236  10  30  14   8  22   8  17  25   8  13   \n",
       "\n",
       "      F   W  AVG GPA  \n",
       "582   5  10    2.594  \n",
       "585   1  12    3.354  \n",
       "586   7  14    2.945  \n",
       "596   3   6    2.876  \n",
       "597  22  49    2.494  "
      ]
     },
     "execution_count": 48,
     "metadata": {},
     "output_type": "execute_result"
    }
   ],
   "source": [
    "CS_df.head()"
   ]
  },
  {
   "cell_type": "code",
   "execution_count": 49,
   "id": "8d1ce8fa",
   "metadata": {},
   "outputs": [
    {
     "data": {
      "text/plain": [
       "(91, 17)"
      ]
     },
     "execution_count": 49,
     "metadata": {},
     "output_type": "execute_result"
    }
   ],
   "source": [
    "CS_df.shape"
   ]
  },
  {
   "cell_type": "markdown",
   "id": "00eb4c54",
   "metadata": {},
   "source": [
    "# In a similar way, make a new dataframe called MATH_df that only has rows where the subject is MATH"
   ]
  },
  {
   "cell_type": "code",
   "execution_count": 50,
   "id": "4cab88ca",
   "metadata": {},
   "outputs": [],
   "source": [
    "MATH_df = analysis_df.loc[analysis_df[\"SUBJECT\"] == \"MATH\"]"
   ]
  },
  {
   "cell_type": "code",
   "execution_count": 51,
   "id": "bbefd422",
   "metadata": {},
   "outputs": [
    {
     "data": {
      "text/html": [
       "<div>\n",
       "<style scoped>\n",
       "    .dataframe tbody tr th:only-of-type {\n",
       "        vertical-align: middle;\n",
       "    }\n",
       "\n",
       "    .dataframe tbody tr th {\n",
       "        vertical-align: top;\n",
       "    }\n",
       "\n",
       "    .dataframe thead th {\n",
       "        text-align: right;\n",
       "    }\n",
       "</style>\n",
       "<table border=\"1\" class=\"dataframe\">\n",
       "  <thead>\n",
       "    <tr style=\"text-align: right;\">\n",
       "      <th></th>\n",
       "      <th>SUBJECT</th>\n",
       "      <th>NBR</th>\n",
       "      <th>PROF</th>\n",
       "      <th>TOTAL</th>\n",
       "      <th>A+</th>\n",
       "      <th>A</th>\n",
       "      <th>A-</th>\n",
       "      <th>B+</th>\n",
       "      <th>B</th>\n",
       "      <th>B-</th>\n",
       "      <th>C+</th>\n",
       "      <th>C</th>\n",
       "      <th>C-</th>\n",
       "      <th>D</th>\n",
       "      <th>F</th>\n",
       "      <th>W</th>\n",
       "      <th>AVG GPA</th>\n",
       "    </tr>\n",
       "  </thead>\n",
       "  <tbody>\n",
       "    <tr>\n",
       "      <th>1757</th>\n",
       "      <td>MATH</td>\n",
       "      <td>110</td>\n",
       "      <td>ALI, M</td>\n",
       "      <td>37</td>\n",
       "      <td>7</td>\n",
       "      <td>9</td>\n",
       "      <td>3</td>\n",
       "      <td>4</td>\n",
       "      <td>2</td>\n",
       "      <td>2</td>\n",
       "      <td>1</td>\n",
       "      <td>1</td>\n",
       "      <td>0</td>\n",
       "      <td>1</td>\n",
       "      <td>0</td>\n",
       "      <td>5</td>\n",
       "      <td>3.500</td>\n",
       "    </tr>\n",
       "    <tr>\n",
       "      <th>1758</th>\n",
       "      <td>MATH</td>\n",
       "      <td>110</td>\n",
       "      <td>ALI, M</td>\n",
       "      <td>37</td>\n",
       "      <td>10</td>\n",
       "      <td>7</td>\n",
       "      <td>2</td>\n",
       "      <td>1</td>\n",
       "      <td>3</td>\n",
       "      <td>3</td>\n",
       "      <td>3</td>\n",
       "      <td>1</td>\n",
       "      <td>0</td>\n",
       "      <td>1</td>\n",
       "      <td>0</td>\n",
       "      <td>5</td>\n",
       "      <td>3.410</td>\n",
       "    </tr>\n",
       "    <tr>\n",
       "      <th>1759</th>\n",
       "      <td>MATH</td>\n",
       "      <td>110</td>\n",
       "      <td>LASKER, M</td>\n",
       "      <td>31</td>\n",
       "      <td>3</td>\n",
       "      <td>8</td>\n",
       "      <td>2</td>\n",
       "      <td>3</td>\n",
       "      <td>0</td>\n",
       "      <td>4</td>\n",
       "      <td>0</td>\n",
       "      <td>1</td>\n",
       "      <td>0</td>\n",
       "      <td>0</td>\n",
       "      <td>2</td>\n",
       "      <td>7</td>\n",
       "      <td>3.222</td>\n",
       "    </tr>\n",
       "    <tr>\n",
       "      <th>1760</th>\n",
       "      <td>MATH</td>\n",
       "      <td>110</td>\n",
       "      <td>BEGA, J</td>\n",
       "      <td>37</td>\n",
       "      <td>4</td>\n",
       "      <td>0</td>\n",
       "      <td>5</td>\n",
       "      <td>3</td>\n",
       "      <td>3</td>\n",
       "      <td>3</td>\n",
       "      <td>4</td>\n",
       "      <td>2</td>\n",
       "      <td>2</td>\n",
       "      <td>0</td>\n",
       "      <td>1</td>\n",
       "      <td>6</td>\n",
       "      <td>2.893</td>\n",
       "    </tr>\n",
       "    <tr>\n",
       "      <th>1761</th>\n",
       "      <td>MATH</td>\n",
       "      <td>110</td>\n",
       "      <td>WOLF-SONKIN, V</td>\n",
       "      <td>30</td>\n",
       "      <td>0</td>\n",
       "      <td>1</td>\n",
       "      <td>1</td>\n",
       "      <td>0</td>\n",
       "      <td>6</td>\n",
       "      <td>1</td>\n",
       "      <td>0</td>\n",
       "      <td>2</td>\n",
       "      <td>2</td>\n",
       "      <td>4</td>\n",
       "      <td>5</td>\n",
       "      <td>7</td>\n",
       "      <td>1.809</td>\n",
       "    </tr>\n",
       "  </tbody>\n",
       "</table>\n",
       "</div>"
      ],
      "text/plain": [
       "     SUBJECT  NBR            PROF  TOTAL  A+  A  A-  B+  B  B-  C+  C  C-  D  \\\n",
       "1757    MATH  110          ALI, M     37   7  9   3   4  2   2   1  1   0  1   \n",
       "1758    MATH  110          ALI, M     37  10  7   2   1  3   3   3  1   0  1   \n",
       "1759    MATH  110       LASKER, M     31   3  8   2   3  0   4   0  1   0  0   \n",
       "1760    MATH  110         BEGA, J     37   4  0   5   3  3   3   4  2   2  0   \n",
       "1761    MATH  110  WOLF-SONKIN, V     30   0  1   1   0  6   1   0  2   2  4   \n",
       "\n",
       "      F  W  AVG GPA  \n",
       "1757  0  5    3.500  \n",
       "1758  0  5    3.410  \n",
       "1759  2  7    3.222  \n",
       "1760  1  6    2.893  \n",
       "1761  5  7    1.809  "
      ]
     },
     "execution_count": 51,
     "metadata": {},
     "output_type": "execute_result"
    }
   ],
   "source": [
    "MATH_df.head()"
   ]
  },
  {
   "cell_type": "code",
   "execution_count": 55,
   "id": "03b7e119",
   "metadata": {},
   "outputs": [
    {
     "data": {
      "text/plain": [
       "(154, 17)"
      ]
     },
     "execution_count": 55,
     "metadata": {},
     "output_type": "execute_result"
    }
   ],
   "source": [
    "MATH_df.shape"
   ]
  },
  {
   "cell_type": "markdown",
   "id": "e5b4efb2",
   "metadata": {},
   "source": [
    "# Make a new dataframe called CS_MATH_df that combines both CS_df and MATH_df "
   ]
  },
  {
   "cell_type": "code",
   "execution_count": 56,
   "id": "39e4cc94",
   "metadata": {},
   "outputs": [],
   "source": [
    "CS_MATH_df = pd.concat([CS_df, MATH_df])"
   ]
  },
  {
   "cell_type": "code",
   "execution_count": 57,
   "id": "ae517e53",
   "metadata": {},
   "outputs": [
    {
     "data": {
      "text/plain": [
       "(245, 17)"
      ]
     },
     "execution_count": 57,
     "metadata": {},
     "output_type": "execute_result"
    }
   ],
   "source": [
    "CS_MATH_df.shape"
   ]
  }
 ],
 "metadata": {
  "kernelspec": {
   "display_name": "Python 3 (ipykernel)",
   "language": "python",
   "name": "python3"
  },
  "language_info": {
   "codemirror_mode": {
    "name": "ipython",
    "version": 3
   },
   "file_extension": ".py",
   "mimetype": "text/x-python",
   "name": "python",
   "nbconvert_exporter": "python",
   "pygments_lexer": "ipython3",
   "version": "3.10.9"
  }
 },
 "nbformat": 4,
 "nbformat_minor": 5
}
